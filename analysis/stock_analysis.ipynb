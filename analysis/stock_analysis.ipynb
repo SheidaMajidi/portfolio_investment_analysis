{
 "cells": [
  {
   "cell_type": "markdown",
   "metadata": {},
   "source": [
    "### Machine Learning in Finance\n",
    "- Sheida Majidi"
   ]
  },
  {
   "cell_type": "code",
   "execution_count": 14,
   "metadata": {},
   "outputs": [],
   "source": [
    "import pandas as pd\n",
    "import numpy as np\n",
    "from sklearn.linear_model import LassoCV, LinearRegression\n",
    "from sklearn.impute import SimpleImputer\n",
    "from sklearn.model_selection import TimeSeriesSplit\n",
    "from joblib import Parallel, delayed"
   ]
  },
  {
   "cell_type": "code",
   "execution_count": 3,
   "metadata": {},
   "outputs": [],
   "source": [
    "factors_char_list = pd.read_csv('/Users/sheidamajidi/Desktop/Summer2024/FINE695/HW1/data/factors_char_list.csv')\n",
    "sample_big = pd.read_csv('/Users/sheidamajidi/Desktop/Summer2024/FINE695/HW1/data/homework_sample_big.csv')"
   ]
  },
  {
   "cell_type": "markdown",
   "metadata": {},
   "source": [
    "### Data preprocessing"
   ]
  },
  {
   "cell_type": "code",
   "execution_count": 5,
   "metadata": {},
   "outputs": [
    {
     "name": "stdout",
     "output_type": "stream",
     "text": [
      "Missing values per column:\n",
      " date              0\n",
      "ret_eom           0\n",
      "permno            0\n",
      "stock_ret         0\n",
      "mspread           0\n",
      "               ... \n",
      "qmj_prof         17\n",
      "qmj_growth     7653\n",
      "qmj_safety        3\n",
      "rf                0\n",
      "stock_exret       0\n",
      "Length: 159, dtype: int64\n"
     ]
    }
   ],
   "source": [
    "missing_values = sample_big.isnull().sum()\n",
    "print(\"Missing values per column:\\n\", missing_values)"
   ]
  },
  {
   "cell_type": "code",
   "execution_count": 47,
   "metadata": {},
   "outputs": [],
   "source": [
    "# handle missing values (approach: weighted bagging imputation)\n",
    "\n",
    "def simple_bagging_impute(model, X_train, y_train, X_missing, n_iter=50, random_state=1234):\n",
    "    rng = np.random.RandomState(random_state)\n",
    "    n = X_train.shape[0]\n",
    "    index = list(range(n))\n",
    "    \n",
    "    predictions = np.zeros((n_iter, X_missing.shape[0]))\n",
    "    \n",
    "    for i in range(n_iter):\n",
    "        # resample the data\n",
    "        resample_ind = rng.choice(index, size=n, replace=True)\n",
    "        x_train_resampled = X_train[resample_ind]\n",
    "        y_train_resampled = y_train[resample_ind]\n",
    "\n",
    "        # fit the model with resampled data\n",
    "        model.fit(x_train_resampled, y_train_resampled)\n",
    "\n",
    "        # predict missing values\n",
    "        predictions[i] = model.predict(X_missing)\n",
    "    \n",
    "    return predictions.mean(axis=0)\n",
    "\n",
    "# handle missing values - bagging approach\n",
    "def fill_missing_values_with_bagging(data, columns, factors_char_list, n_iter=50):\n",
    "    filled_data = data.copy()\n",
    "    \n",
    "    # imputer for predictors\n",
    "    imputer = SimpleImputer(strategy='mean')\n",
    "\n",
    "    for column in columns:\n",
    "        missing_indices = filled_data[column].isnull()\n",
    "        if missing_indices.any():\n",
    "\n",
    "            X_train = filled_data.loc[~missing_indices, factors_char_list['variable']]\n",
    "            X_train = pd.DataFrame(imputer.fit_transform(X_train), columns=X_train.columns)\n",
    "\n",
    "            y_train = filled_data.loc[~missing_indices, column].values\n",
    "\n",
    "            X_missing = filled_data.loc[missing_indices, factors_char_list['variable']]\n",
    "            X_missing = pd.DataFrame(imputer.transform(X_missing), columns=X_missing.columns)\n",
    "\n",
    "            y_pred = simple_bagging_impute(LinearRegression(), X_train.values, y_train, X_missing.values, n_iter=n_iter)\n",
    "            filled_data.loc[missing_indices, column] = y_pred\n",
    "    \n",
    "    return filled_data"
   ]
  },
  {
   "cell_type": "code",
   "execution_count": 48,
   "metadata": {},
   "outputs": [
    {
     "name": "stdout",
     "output_type": "stream",
     "text": [
      "date           0\n",
      "ret_eom        0\n",
      "permno         0\n",
      "stock_ret      0\n",
      "mspread        0\n",
      "              ..\n",
      "qmj_prof       0\n",
      "qmj_growth     0\n",
      "qmj_safety     0\n",
      "rf             0\n",
      "stock_exret    0\n",
      "Length: 159, dtype: int64\n"
     ]
    }
   ],
   "source": [
    "sample_big_filled = fill_missing_values_with_bagging(sample_big, sample_big.columns, factors_char_list)\n",
    "print(sample_big_filled.isnull().sum())"
   ]
  }
 ],
 "metadata": {
  "kernelspec": {
   "display_name": "Python (poenv)",
   "language": "python",
   "name": "poenv"
  },
  "language_info": {
   "codemirror_mode": {
    "name": "ipython",
    "version": 3
   },
   "file_extension": ".py",
   "mimetype": "text/x-python",
   "name": "python",
   "nbconvert_exporter": "python",
   "pygments_lexer": "ipython3",
   "version": "3.11.5"
  }
 },
 "nbformat": 4,
 "nbformat_minor": 2
}
